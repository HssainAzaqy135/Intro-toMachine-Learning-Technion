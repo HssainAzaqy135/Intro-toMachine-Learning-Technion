{
 "cells": [
  {
   "cell_type": "code",
   "execution_count": 1,
   "id": "2eb5c9cc-7735-4b20-8712-dbac8f8e541a",
   "metadata": {},
   "outputs": [],
   "source": [
    "import sklearn\n",
    "import pandas as pd\n",
    "import numpy as np\n",
    "import seaborn as sns\n",
    "import matplotlib.pyplot as plt"
   ]
  },
  {
   "cell_type": "code",
   "execution_count": 2,
   "id": "a2fff1ca-b824-4268-a800-6b594ead37a9",
   "metadata": {},
   "outputs": [
    {
     "data": {
      "text/plain": [
       "(1250, 25)"
      ]
     },
     "execution_count": 2,
     "metadata": {},
     "output_type": "execute_result"
    }
   ],
   "source": [
    "virus_DF = pd.read_csv('virus_data.csv')\n",
    "virus_DF.shape"
   ]
  },
  {
   "cell_type": "code",
   "execution_count": 3,
   "id": "ad063185-b9b3-4606-b768-0166c0786b41",
   "metadata": {},
   "outputs": [
    {
     "data": {
      "text/plain": [
       "conversations_per_day\n",
       "3     218\n",
       "2     204\n",
       "5     179\n",
       "4     168\n",
       "1     108\n",
       "6     107\n",
       "7      94\n",
       "8      54\n",
       "9      42\n",
       "10     29\n",
       "11     16\n",
       "13      8\n",
       "12      7\n",
       "14      6\n",
       "16      5\n",
       "15      3\n",
       "17      1\n",
       "29      1\n",
       "Name: count, dtype: int64"
      ]
     },
     "execution_count": 3,
     "metadata": {},
     "output_type": "execute_result"
    }
   ],
   "source": [
    "virus_DF[\"conversations_per_day\"].value_counts()"
   ]
  },
  {
   "cell_type": "code",
   "execution_count": null,
   "id": "d6d4de38-f7c1-4948-87f2-8c7711a2e317",
   "metadata": {},
   "outputs": [],
   "source": [
    "from sklearn.model_selection import train_test_split\n",
    "sum = 0\n",
    "for id in virus_DF[\"patient_id\"]:\n",
    "    sum+= id%100\n",
    "\n",
    "train_virus_df, test_virus_df = train_test_split(virus_DF, test_size=0.2, random_state=sum)\n"
   ]
  }
 ],
 "metadata": {
  "kernelspec": {
   "display_name": "Python 3 (ipykernel)",
   "language": "python",
   "name": "python3"
  },
  "language_info": {
   "codemirror_mode": {
    "name": "ipython",
    "version": 3
   },
   "file_extension": ".py",
   "mimetype": "text/x-python",
   "name": "python",
   "nbconvert_exporter": "python",
   "pygments_lexer": "ipython3",
   "version": "3.12.4"
  }
 },
 "nbformat": 4,
 "nbformat_minor": 5
}
