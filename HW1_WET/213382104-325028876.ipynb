{
 "cells": [
  {
   "cell_type": "code",
   "execution_count": 16,
   "id": "2eb5c9cc-7735-4b20-8712-dbac8f8e541a",
   "metadata": {},
   "outputs": [],
   "source": [
    "import sklearn\n",
    "import pandas as pd\n",
    "import numpy as np\n",
    "import seaborn as sns\n",
    "import matplotlib.pyplot as plt\n",
    "import warnings\n",
    "# Suppressing all warnings\n",
    "warnings.filterwarnings('ignore')"
   ]
  },
  {
   "cell_type": "markdown",
   "id": "896284a0-effa-4840-8d31-3f948530b515",
   "metadata": {},
   "source": [
    " - Question 1"
   ]
  },
  {
   "cell_type": "code",
   "execution_count": 2,
   "id": "a2fff1ca-b824-4268-a800-6b594ead37a9",
   "metadata": {},
   "outputs": [
    {
     "data": {
      "text/plain": [
       "(1250, 25)"
      ]
     },
     "execution_count": 2,
     "metadata": {},
     "output_type": "execute_result"
    }
   ],
   "source": [
    "virus_DF = pd.read_csv('virus_data.csv')\n",
    "virus_DF.shape"
   ]
  },
  {
   "cell_type": "markdown",
   "id": "71b7c33b-ca1c-4579-b0d2-a16e0f517191",
   "metadata": {},
   "source": [
    " - Question 2"
   ]
  },
  {
   "cell_type": "code",
   "execution_count": 3,
   "id": "ad063185-b9b3-4606-b768-0166c0786b41",
   "metadata": {},
   "outputs": [
    {
     "data": {
      "text/plain": [
       "conversations_per_day\n",
       "3     218\n",
       "2     204\n",
       "5     179\n",
       "4     168\n",
       "1     108\n",
       "6     107\n",
       "7      94\n",
       "8      54\n",
       "9      42\n",
       "10     29\n",
       "11     16\n",
       "13      8\n",
       "12      7\n",
       "14      6\n",
       "16      5\n",
       "15      3\n",
       "17      1\n",
       "29      1\n",
       "Name: count, dtype: int64"
      ]
     },
     "execution_count": 3,
     "metadata": {},
     "output_type": "execute_result"
    }
   ],
   "source": [
    "virus_DF[\"conversations_per_day\"].value_counts()"
   ]
  },
  {
   "cell_type": "markdown",
   "id": "813c2068-0799-46f6-8405-329fe51671b3",
   "metadata": {},
   "source": [
    " - Question 4"
   ]
  },
  {
   "cell_type": "code",
   "execution_count": 4,
   "id": "d6d4de38-f7c1-4948-87f2-8c7711a2e317",
   "metadata": {},
   "outputs": [],
   "source": [
    "from sklearn.model_selection import train_test_split\n",
    "state = 4+76\n",
    "train_virus_df, test_virus_df = train_test_split(virus_DF, test_size=0.2, random_state=state)"
   ]
  },
  {
   "cell_type": "markdown",
   "id": "55090785-cf20-462f-89c3-4b48757d977d",
   "metadata": {},
   "source": [
    "- Question 5"
   ]
  },
  {
   "cell_type": "code",
   "execution_count": 5,
   "id": "ab493110-8693-4778-b7e6-f11b25bb06cf",
   "metadata": {},
   "outputs": [
    {
     "data": {
      "text/plain": [
       "patient_id                0\n",
       "age                       0\n",
       "sex                       0\n",
       "weight                    0\n",
       "blood_type                0\n",
       "current_location          0\n",
       "num_of_siblings           0\n",
       "happiness_score           0\n",
       "household_income         86\n",
       "conversations_per_day     0\n",
       "sugar_levels              0\n",
       "sport_activity            0\n",
       "pcr_date                  0\n",
       "PCR_01                    0\n",
       "PCR_02                    0\n",
       "PCR_03                    0\n",
       "PCR_04                    0\n",
       "PCR_05                    0\n",
       "PCR_06                    0\n",
       "PCR_07                    0\n",
       "PCR_08                    0\n",
       "PCR_09                    0\n",
       "PCR_10                    0\n",
       "spread                    0\n",
       "risk                      0\n",
       "dtype: int64"
      ]
     },
     "execution_count": 5,
     "metadata": {},
     "output_type": "execute_result"
    }
   ],
   "source": [
    "train_virus_df.isnull().sum()"
   ]
  },
  {
   "cell_type": "code",
   "execution_count": 6,
   "id": "7f4d199b-71cf-4a0e-b108-19ad3000a65b",
   "metadata": {},
   "outputs": [
    {
     "data": {
      "text/plain": [
       "patient_id                0\n",
       "age                       0\n",
       "sex                       0\n",
       "weight                    0\n",
       "blood_type                0\n",
       "current_location          0\n",
       "num_of_siblings           0\n",
       "happiness_score           0\n",
       "household_income         23\n",
       "conversations_per_day     0\n",
       "sugar_levels              0\n",
       "sport_activity            0\n",
       "pcr_date                  0\n",
       "PCR_01                    0\n",
       "PCR_02                    0\n",
       "PCR_03                    0\n",
       "PCR_04                    0\n",
       "PCR_05                    0\n",
       "PCR_06                    0\n",
       "PCR_07                    0\n",
       "PCR_08                    0\n",
       "PCR_09                    0\n",
       "PCR_10                    0\n",
       "spread                    0\n",
       "risk                      0\n",
       "dtype: int64"
      ]
     },
     "execution_count": 6,
     "metadata": {},
     "output_type": "execute_result"
    }
   ],
   "source": [
    "test_virus_df.isnull().sum()"
   ]
  },
  {
   "cell_type": "markdown",
   "id": "31b63894-c5ca-4cdc-bdb4-ff6c8e2f742c",
   "metadata": {},
   "source": [
    " - Question 6"
   ]
  },
  {
   "cell_type": "code",
   "execution_count": 7,
   "id": "938ed542-d8e9-4692-89ca-e488e53ba9e4",
   "metadata": {},
   "outputs": [
    {
     "data": {
      "text/plain": [
       "<Axes: >"
      ]
     },
     "execution_count": 7,
     "metadata": {},
     "output_type": "execute_result"
    },
    {
     "data": {
      "image/png": "[encoded data removed]",
      "text/plain": [
       "<Figure size 640x480 with 1 Axes>"
      ]
     },
     "metadata": {},
     "output_type": "display_data"
    }
   ],
   "source": [
    "train_virus_df[\"household_income\"].hist()"
   ]
  },
  {
   "cell_type": "markdown",
   "id": "e01849bd-cfb6-43f6-abe6-685053878a99",
   "metadata": {},
   "source": [
    "- Question 7"
   ]
  },
  {
   "cell_type": "code",
   "execution_count": 8,
   "id": "6bd3e1ad-f433-451c-9a07-905188733b37",
   "metadata": {},
   "outputs": [
    {
     "name": "stdout",
     "output_type": "stream",
     "text": [
      "The mean household income 3.535886214442013, The median household income 0.7\n"
     ]
    }
   ],
   "source": [
    "mean = train_virus_df[\"household_income\"].mean()\n",
    "median = train_virus_df[\"household_income\"].median()\n",
    "print(f\"The mean household income {mean}, The median household income {median}\")"
   ]
  },
  {
   "cell_type": "code",
   "execution_count": 9,
   "id": "2ab2a52c-8526-4794-b1d2-617274670ff0",
   "metadata": {},
   "outputs": [
    {
     "data": {
      "text/plain": [
       "888"
      ]
     },
     "execution_count": 9,
     "metadata": {},
     "output_type": "execute_result"
    }
   ],
   "source": [
    "filtered_by_income = train_virus_df[train_virus_df[\"household_income\"] < 3.5]\n",
    "filtered_by_income[\"household_income\"].count()"
   ]
  },
  {
   "cell_type": "markdown",
   "id": "8aa14c9c-2487-4da3-9309-63fb4a36be85",
   "metadata": {},
   "source": [
    "- We decided to replace the missing values with the median values, since the majority of the availabe values are under the mean"
   ]
  },
  {
   "cell_type": "markdown",
   "id": "36122190-f397-41b5-9e78-2f330732fdef",
   "metadata": {},
   "source": [
    "- Task A"
   ]
  },
  {
   "cell_type": "code",
   "execution_count": 18,
   "id": "6cfac6af-ead8-4257-94bd-bcd2283463c8",
   "metadata": {},
   "outputs": [],
   "source": [
    "replacement_value= train_virus_df[\"household_income\"].median()\n",
    "train_virus_df[\"household_income\"] = train_virus_df[\"household_income\"].fillna(replacement_value,inplace= True)"
   ]
  },
  {
   "cell_type": "code",
   "execution_count": null,
   "id": "925cd730-249f-4095-aaab-d5039fa1bf4c",
   "metadata": {},
   "outputs": [],
   "source": []
  }
 ],
 "metadata": {
  "kernelspec": {
   "display_name": "Python 3 (ipykernel)",
   "language": "python",
   "name": "python3"
  },
  "language_info": {
   "codemirror_mode": {
    "name": "ipython",
    "version": 3
   },
   "file_extension": ".py",
   "mimetype": "text/x-python",
   "name": "python",
   "nbconvert_exporter": "python",
   "pygments_lexer": "ipython3",
   "version": "3.12.4"
  }
 },
 "nbformat": 4,
 "nbformat_minor": 5
}
